{
 "cells": [
  {
   "cell_type": "markdown",
   "metadata": {
    "collapsed": true
   },
   "source": [
    "# Wrangle and Analyze data project\n",
    "\n",
    "## Table of Contents\n",
    "- [Introduction](#Introduction)\n",
    "- [Project Flow](#Flow)\n",
    "- [Gathering Data](#Gathering)\n",
    "- [Assesing Twitter Archive](#Assessing_Archive)\n",
    "- [Copying Data frames before cleaning](#Copying)\n",
    "- [Cleaning Twitter Archive](#Cleaning_Archive)\n",
    "- [Assesing Image Predictions](#Assessing_Predictions)\n",
    "- [Cleaning Image Predictions](#Cleaning_Predictions)\n",
    "- [Assesing Tweets info](#Assessing_info)\n",
    "- [Cleaning Tweets info](#Cleaning_info)\n",
    "- [Adding all pieces together](#Final_Frame)\n",
    "- [First Insight](#First_insight)\n",
    "- [Second Insight](#Second_insight)\n",
    "- [Third Insight](#Third_insight)\n",
    "- [Refernences](#Refernces)"
   ]
  },
  {
   "cell_type": "markdown",
   "metadata": {},
   "source": [
    "# Introduction\n",
    "\n",
    "This project is aiming to establish a strong base mainly in assessing and cleaning data sets, also gathering, analysis and visualizing data are parts of this project, they not the main focus. The data set to be studided is mainly the **WeRateDogs Twitter archive** alongside with additional data, **The tweet image predictions** that is created by a neural network for predicting dog breeds, also **Tweets info** that represents a number of specifications for each tweet.\n",
    "\n",
    "In the insights and analysis section, i'll try to prove each insight with a visualization.\n",
    "\n",
    "\n"
   ]
  },
  {
   "cell_type": "markdown",
   "metadata": {},
   "source": [
    "# Flow\n",
    "In this project, i chose a slightly different flow than usual.\n",
    "For the **gathering** i'll just collect the whole data normally.\n",
    "\n",
    "But for the **Assesing** and **Cleaning** phases, i'll deal with each data frame separetly and at once in order to avoid confusion in observing data and to give each data frame a sufficient amount of studying."
   ]
  },
  {
   "cell_type": "markdown",
   "metadata": {},
   "source": [
    "# Gathering "
   ]
  },
  {
   "cell_type": "code",
   "execution_count": 1,
   "metadata": {},
   "outputs": [],
   "source": [
    "# importing used libiraries \n",
    "import pandas as pd\n",
    "import numpy as np \n",
    "import matplotlib.pyplot as plt\n",
    "import seaborn as sns\n",
    "import requests\n",
    "import json"
   ]
  },
  {
   "cell_type": "code",
   "execution_count": 2,
   "metadata": {},
   "outputs": [],
   "source": [
    "# Twitter archive data\n",
    "df_twitter_archive = pd.read_csv('twitter-archive-enhanced.csv')"
   ]
  },
  {
   "cell_type": "code",
   "execution_count": 3,
   "metadata": {},
   "outputs": [],
   "source": [
    "# Predictions of dog breeds data\n",
    "url_image_predictions = ('https://d17h27t6h515a5.cloudfront.net/topher/2017/August/'\n",
    "                         '599fd2ad_image-predictions/image-predictions.tsv')\n",
    "response = requests.get(url_image_predictions)\n",
    "with open('image-predictions.tsv', mode ='wb') as file:\n",
    "    file.write(response.content)\n",
    "\n",
    "df_image_predictions = pd.read_csv(url_image_predictions, delimiter='\\t')"
   ]
  },
  {
   "cell_type": "code",
   "execution_count": 4,
   "metadata": {},
   "outputs": [],
   "source": [
    "# Saving only coloumns to be used later on\n",
    "elements_to_save = ['id', 'favorite_count', 'retweet_count']\n",
    "# Later convert list to dataframe\n",
    "data = []\n",
    "\n",
    "with open('tweet-json.txt', 'r') as readfile: \n",
    "    tweet_json = readfile.readline()\n",
    "    \n",
    "    # Reading line by line into DataFrame\n",
    "    while tweet_json:\n",
    "        tweet_dict = json.loads(tweet_json)\n",
    "        # Create a dict with the chosen coloumns\n",
    "        data_row = dict((k, tweet_dict[k]) for k in elements_to_save)\n",
    "        data.append(data_row)\n",
    "        # Reading Json file\n",
    "        tweet_json = readfile.readline()\n",
    "        \n",
    "               \n",
    "df_tweets_info = pd.DataFrame.from_dict(data)"
   ]
  },
  {
   "cell_type": "markdown",
   "metadata": {},
   "source": [
    "# Assessing_Archive\n",
    "Let's assess the first and the main part of our data, the **twitter archive**."
   ]
  },
  {
   "cell_type": "code",
   "execution_count": 5,
   "metadata": {},
   "outputs": [
    {
     "data": {
      "text/html": [
       "<div>\n",
       "<style>\n",
       "    .dataframe thead tr:only-child th {\n",
       "        text-align: right;\n",
       "    }\n",
       "\n",
       "    .dataframe thead th {\n",
       "        text-align: left;\n",
       "    }\n",
       "\n",
       "    .dataframe tbody tr th {\n",
       "        vertical-align: top;\n",
       "    }\n",
       "</style>\n",
       "<table border=\"1\" class=\"dataframe\">\n",
       "  <thead>\n",
       "    <tr style=\"text-align: right;\">\n",
       "      <th></th>\n",
       "      <th>tweet_id</th>\n",
       "      <th>in_reply_to_status_id</th>\n",
       "      <th>in_reply_to_user_id</th>\n",
       "      <th>timestamp</th>\n",
       "      <th>source</th>\n",
       "      <th>text</th>\n",
       "      <th>retweeted_status_id</th>\n",
       "      <th>retweeted_status_user_id</th>\n",
       "      <th>retweeted_status_timestamp</th>\n",
       "      <th>expanded_urls</th>\n",
       "      <th>rating_numerator</th>\n",
       "      <th>rating_denominator</th>\n",
       "      <th>name</th>\n",
       "      <th>doggo</th>\n",
       "      <th>floofer</th>\n",
       "      <th>pupper</th>\n",
       "      <th>puppo</th>\n",
       "    </tr>\n",
       "  </thead>\n",
       "  <tbody>\n",
       "    <tr>\n",
       "      <th>0</th>\n",
       "      <td>892420643555336193</td>\n",
       "      <td>NaN</td>\n",
       "      <td>NaN</td>\n",
       "      <td>2017-08-01 16:23:56 +0000</td>\n",
       "      <td>&lt;a href=\"http://twitter.com/download/iphone\" r...</td>\n",
       "      <td>This is Phineas. He's a mystical boy. Only eve...</td>\n",
       "      <td>NaN</td>\n",
       "      <td>NaN</td>\n",
       "      <td>NaN</td>\n",
       "      <td>https://twitter.com/dog_rates/status/892420643...</td>\n",
       "      <td>13</td>\n",
       "      <td>10</td>\n",
       "      <td>Phineas</td>\n",
       "      <td>None</td>\n",
       "      <td>None</td>\n",
       "      <td>None</td>\n",
       "      <td>None</td>\n",
       "    </tr>\n",
       "    <tr>\n",
       "      <th>1</th>\n",
       "      <td>892177421306343426</td>\n",
       "      <td>NaN</td>\n",
       "      <td>NaN</td>\n",
       "      <td>2017-08-01 00:17:27 +0000</td>\n",
       "      <td>&lt;a href=\"http://twitter.com/download/iphone\" r...</td>\n",
       "      <td>This is Tilly. She's just checking pup on you....</td>\n",
       "      <td>NaN</td>\n",
       "      <td>NaN</td>\n",
       "      <td>NaN</td>\n",
       "      <td>https://twitter.com/dog_rates/status/892177421...</td>\n",
       "      <td>13</td>\n",
       "      <td>10</td>\n",
       "      <td>Tilly</td>\n",
       "      <td>None</td>\n",
       "      <td>None</td>\n",
       "      <td>None</td>\n",
       "      <td>None</td>\n",
       "    </tr>\n",
       "    <tr>\n",
       "      <th>2</th>\n",
       "      <td>891815181378084864</td>\n",
       "      <td>NaN</td>\n",
       "      <td>NaN</td>\n",
       "      <td>2017-07-31 00:18:03 +0000</td>\n",
       "      <td>&lt;a href=\"http://twitter.com/download/iphone\" r...</td>\n",
       "      <td>This is Archie. He is a rare Norwegian Pouncin...</td>\n",
       "      <td>NaN</td>\n",
       "      <td>NaN</td>\n",
       "      <td>NaN</td>\n",
       "      <td>https://twitter.com/dog_rates/status/891815181...</td>\n",
       "      <td>12</td>\n",
       "      <td>10</td>\n",
       "      <td>Archie</td>\n",
       "      <td>None</td>\n",
       "      <td>None</td>\n",
       "      <td>None</td>\n",
       "      <td>None</td>\n",
       "    </tr>\n",
       "    <tr>\n",
       "      <th>3</th>\n",
       "      <td>891689557279858688</td>\n",
       "      <td>NaN</td>\n",
       "      <td>NaN</td>\n",
       "      <td>2017-07-30 15:58:51 +0000</td>\n",
       "      <td>&lt;a href=\"http://twitter.com/download/iphone\" r...</td>\n",
       "      <td>This is Darla. She commenced a snooze mid meal...</td>\n",
       "      <td>NaN</td>\n",
       "      <td>NaN</td>\n",
       "      <td>NaN</td>\n",
       "      <td>https://twitter.com/dog_rates/status/891689557...</td>\n",
       "      <td>13</td>\n",
       "      <td>10</td>\n",
       "      <td>Darla</td>\n",
       "      <td>None</td>\n",
       "      <td>None</td>\n",
       "      <td>None</td>\n",
       "      <td>None</td>\n",
       "    </tr>\n",
       "    <tr>\n",
       "      <th>4</th>\n",
       "      <td>891327558926688256</td>\n",
       "      <td>NaN</td>\n",
       "      <td>NaN</td>\n",
       "      <td>2017-07-29 16:00:24 +0000</td>\n",
       "      <td>&lt;a href=\"http://twitter.com/download/iphone\" r...</td>\n",
       "      <td>This is Franklin. He would like you to stop ca...</td>\n",
       "      <td>NaN</td>\n",
       "      <td>NaN</td>\n",
       "      <td>NaN</td>\n",
       "      <td>https://twitter.com/dog_rates/status/891327558...</td>\n",
       "      <td>12</td>\n",
       "      <td>10</td>\n",
       "      <td>Franklin</td>\n",
       "      <td>None</td>\n",
       "      <td>None</td>\n",
       "      <td>None</td>\n",
       "      <td>None</td>\n",
       "    </tr>\n",
       "  </tbody>\n",
       "</table>\n",
       "</div>"
      ],
      "text/plain": [
       "             tweet_id  in_reply_to_status_id  in_reply_to_user_id  \\\n",
       "0  892420643555336193                    NaN                  NaN   \n",
       "1  892177421306343426                    NaN                  NaN   \n",
       "2  891815181378084864                    NaN                  NaN   \n",
       "3  891689557279858688                    NaN                  NaN   \n",
       "4  891327558926688256                    NaN                  NaN   \n",
       "\n",
       "                   timestamp  \\\n",
       "0  2017-08-01 16:23:56 +0000   \n",
       "1  2017-08-01 00:17:27 +0000   \n",
       "2  2017-07-31 00:18:03 +0000   \n",
       "3  2017-07-30 15:58:51 +0000   \n",
       "4  2017-07-29 16:00:24 +0000   \n",
       "\n",
       "                                              source  \\\n",
       "0  <a href=\"http://twitter.com/download/iphone\" r...   \n",
       "1  <a href=\"http://twitter.com/download/iphone\" r...   \n",
       "2  <a href=\"http://twitter.com/download/iphone\" r...   \n",
       "3  <a href=\"http://twitter.com/download/iphone\" r...   \n",
       "4  <a href=\"http://twitter.com/download/iphone\" r...   \n",
       "\n",
       "                                                text  retweeted_status_id  \\\n",
       "0  This is Phineas. He's a mystical boy. Only eve...                  NaN   \n",
       "1  This is Tilly. She's just checking pup on you....                  NaN   \n",
       "2  This is Archie. He is a rare Norwegian Pouncin...                  NaN   \n",
       "3  This is Darla. She commenced a snooze mid meal...                  NaN   \n",
       "4  This is Franklin. He would like you to stop ca...                  NaN   \n",
       "\n",
       "   retweeted_status_user_id retweeted_status_timestamp  \\\n",
       "0                       NaN                        NaN   \n",
       "1                       NaN                        NaN   \n",
       "2                       NaN                        NaN   \n",
       "3                       NaN                        NaN   \n",
       "4                       NaN                        NaN   \n",
       "\n",
       "                                       expanded_urls  rating_numerator  \\\n",
       "0  https://twitter.com/dog_rates/status/892420643...                13   \n",
       "1  https://twitter.com/dog_rates/status/892177421...                13   \n",
       "2  https://twitter.com/dog_rates/status/891815181...                12   \n",
       "3  https://twitter.com/dog_rates/status/891689557...                13   \n",
       "4  https://twitter.com/dog_rates/status/891327558...                12   \n",
       "\n",
       "   rating_denominator      name doggo floofer pupper puppo  \n",
       "0                  10   Phineas  None    None   None  None  \n",
       "1                  10     Tilly  None    None   None  None  \n",
       "2                  10    Archie  None    None   None  None  \n",
       "3                  10     Darla  None    None   None  None  \n",
       "4                  10  Franklin  None    None   None  None  "
      ]
     },
     "execution_count": 5,
     "metadata": {},
     "output_type": "execute_result"
    }
   ],
   "source": [
    "df_twitter_archive.head(5)"
   ]
  },
  {
   "cell_type": "code",
   "execution_count": 6,
   "metadata": {},
   "outputs": [
    {
     "name": "stdout",
     "output_type": "stream",
     "text": [
      "<class 'pandas.core.frame.DataFrame'>\n",
      "RangeIndex: 2356 entries, 0 to 2355\n",
      "Data columns (total 17 columns):\n",
      "tweet_id                      2356 non-null int64\n",
      "in_reply_to_status_id         78 non-null float64\n",
      "in_reply_to_user_id           78 non-null float64\n",
      "timestamp                     2356 non-null object\n",
      "source                        2356 non-null object\n",
      "text                          2356 non-null object\n",
      "retweeted_status_id           181 non-null float64\n",
      "retweeted_status_user_id      181 non-null float64\n",
      "retweeted_status_timestamp    181 non-null object\n",
      "expanded_urls                 2297 non-null object\n",
      "rating_numerator              2356 non-null int64\n",
      "rating_denominator            2356 non-null int64\n",
      "name                          2356 non-null object\n",
      "doggo                         2356 non-null object\n",
      "floofer                       2356 non-null object\n",
      "pupper                        2356 non-null object\n",
      "puppo                         2356 non-null object\n",
      "dtypes: float64(4), int64(3), object(10)\n",
      "memory usage: 313.0+ KB\n"
     ]
    }
   ],
   "source": [
    "df_twitter_archive.info()"
   ]
  },
  {
   "cell_type": "code",
   "execution_count": 7,
   "metadata": {},
   "outputs": [
    {
     "data": {
      "text/plain": [
       "0"
      ]
     },
     "execution_count": 7,
     "metadata": {},
     "output_type": "execute_result"
    }
   ],
   "source": [
    "sum(df_twitter_archive.duplicated())"
   ]
  },
  {
   "cell_type": "code",
   "execution_count": 8,
   "metadata": {},
   "outputs": [
    {
     "name": "stdout",
     "output_type": "stream",
     "text": [
      "Names count\n",
      "None        745\n",
      "a            55\n",
      "Charlie      12\n",
      "Oliver       11\n",
      "Lucy         11\n",
      "Cooper       11\n",
      "Tucker       10\n",
      "Penny        10\n",
      "Lola         10\n",
      "Bo            9\n",
      "Winston       9\n",
      "Sadie         8\n",
      "the           8\n",
      "Toby          7\n",
      "Daisy         7\n",
      "Bailey        7\n",
      "an            7\n",
      "Buddy         7\n",
      "Jack          6\n",
      "Dave          6\n",
      "Stanley       6\n",
      "Milo          6\n",
      "Bella         6\n",
      "Jax           6\n",
      "Rusty         6\n",
      "Leo           6\n",
      "Scout         6\n",
      "Koda          6\n",
      "Oscar         6\n",
      "Alfie         5\n",
      "           ... \n",
      "Pilot         1\n",
      "Dug           1\n",
      "Frönq         1\n",
      "DayZ          1\n",
      "Lizzie        1\n",
      "Kona          1\n",
      "Harrison      1\n",
      "Tebow         1\n",
      "Ronnie        1\n",
      "Yoda          1\n",
      "Beckham       1\n",
      "Marvin        1\n",
      "Sonny         1\n",
      "Striker       1\n",
      "Strider       1\n",
      "Gustaf        1\n",
      "Tayzie        1\n",
      "Horace        1\n",
      "Mona          1\n",
      "Filup         1\n",
      "Blu           1\n",
      "Ozzie         1\n",
      "Doobert       1\n",
      "Jimbo         1\n",
      "Severus       1\n",
      "Kevon         1\n",
      "Ole           1\n",
      "Skittle       1\n",
      "Eevee         1\n",
      "Newt          1\n",
      "Name: name, Length: 957, dtype: int64\n",
      "**************************************************\n",
      "Numerator count\n",
      "12      558\n",
      "11      464\n",
      "10      461\n",
      "13      351\n",
      "9       158\n",
      "8       102\n",
      "7        55\n",
      "14       54\n",
      "5        37\n",
      "6        32\n",
      "3        19\n",
      "4        17\n",
      "1         9\n",
      "2         9\n",
      "420       2\n",
      "0         2\n",
      "15        2\n",
      "75        2\n",
      "80        1\n",
      "20        1\n",
      "24        1\n",
      "26        1\n",
      "44        1\n",
      "50        1\n",
      "60        1\n",
      "165       1\n",
      "84        1\n",
      "88        1\n",
      "144       1\n",
      "182       1\n",
      "143       1\n",
      "666       1\n",
      "960       1\n",
      "1776      1\n",
      "17        1\n",
      "27        1\n",
      "45        1\n",
      "99        1\n",
      "121       1\n",
      "204       1\n",
      "Name: rating_numerator, dtype: int64\n",
      "**************************************************\n",
      "Denominator count\n",
      "10     2333\n",
      "11        3\n",
      "50        3\n",
      "80        2\n",
      "20        2\n",
      "2         1\n",
      "16        1\n",
      "40        1\n",
      "70        1\n",
      "15        1\n",
      "90        1\n",
      "110       1\n",
      "120       1\n",
      "130       1\n",
      "150       1\n",
      "170       1\n",
      "7         1\n",
      "0         1\n",
      "Name: rating_denominator, dtype: int64\n",
      "**************************************************\n",
      "Doggo count\n",
      "None     2259\n",
      "doggo      97\n",
      "Name: doggo, dtype: int64\n",
      "**************************************************\n",
      "Floofer count\n",
      "None       2346\n",
      "floofer      10\n",
      "Name: floofer, dtype: int64\n",
      "**************************************************\n",
      "Pupper count\n",
      "None      2099\n",
      "pupper     257\n",
      "Name: pupper, dtype: int64\n",
      "**************************************************\n",
      "Puppo count\n",
      "None     2326\n",
      "puppo      30\n",
      "Name: puppo, dtype: int64\n"
     ]
    }
   ],
   "source": [
    "Sep = 50;\n",
    "print('Names count')\n",
    "print(df_twitter_archive.name.value_counts())\n",
    "print(Sep*'*')\n",
    "print('Numerator count')\n",
    "print(df_twitter_archive.rating_numerator.value_counts())\n",
    "print(Sep*'*')\n",
    "print('Denominator count')\n",
    "print(df_twitter_archive.rating_denominator.value_counts())\n",
    "print(Sep*'*')\n",
    "print('Doggo count')\n",
    "print(df_twitter_archive.doggo.value_counts())\n",
    "print(Sep*'*')\n",
    "print('Floofer count')\n",
    "print(df_twitter_archive.floofer.value_counts())\n",
    "print(Sep*'*')\n",
    "print('Pupper count')\n",
    "print(df_twitter_archive.pupper.value_counts())\n",
    "print(Sep*'*')\n",
    "print('Puppo count')\n",
    "print(df_twitter_archive.puppo.value_counts())"
   ]
  },
  {
   "cell_type": "markdown",
   "metadata": {},
   "source": [
    "# Copying\n",
    "Before cleaning, i'll just make new copies of our data frames to be later used in cleaning."
   ]
  },
  {
   "cell_type": "code",
   "execution_count": 9,
   "metadata": {},
   "outputs": [],
   "source": [
    "df_clean_twitter_archive = df_twitter_archive.copy()\n",
    "df_clean_image_predictions = df_image_predictions.copy()\n",
    "df_clean_tweets_info = df_tweets_info.copy()"
   ]
  },
  {
   "cell_type": "markdown",
   "metadata": {},
   "source": [
    "# Cleaning_Archive\n",
    "\n",
    "## Quality improvements \n",
    ">**Twitter Archive:**\n",
    ">>\n",
    "* The *retweeted_status_timestamp*, *timestamp* shall be converted into datetime instead of object.\n",
    "* Splitting *timestamp* into three coloumns day - month - year might be useful for future analysis and then dropping it.\n",
    "* The *rating_numerator* has some invalid values.\n",
    "* The *rating_denominator* has also invalid values.\n",
    "* The *name* coloumn has some invalid data.\n",
    "* Keeping only original ratings (no retweets) that have images, and dropping coloumns related to retweeting.\n",
    "* Too little dogs are calssified into *doggo*, *floofer*, *pupper*, *puppo* coloumns, so we might want to check this.\n",
    "* Creating new coloumn driven out of *doggo*, *floofer*, *pupper*, *puppo* coloumns for future analysis and then dropping them.\n",
    "\n",
    ">**Notes:**\n",
    ">>\n",
    "* Removing all Nulls will surely reduce the data set, so we won't be doing that.\n",
    "* There is no dublicated data, so also nothing further to do.\n",
    "\n",
    "## Tidiness \n",
    ">**Twitter Archive:**\n",
    ">>\n",
    "* No need to take all the data in, since we won't be using all of them, so at the *analyse and visualize* phase, we will just drop unused data **(This step will be done after combining all data sets)**.\n",
    "\n",
    "We'll go through each of the steps above in the same order in the following coding cells, a **markdown cell** might preceed a coding cell if any explanations is neede, and then i'll make sure that my changes were done correctly."
   ]
  },
  {
   "cell_type": "markdown",
   "metadata": {},
   "source": [
    "### *Twitter_archive*\n",
    "> **Define**\n",
    "The *retweeted_status_timestamp*, *timestamp* shall be converted into datetime instead of object.\n",
    "\n",
    ">**Code:**"
   ]
  },
  {
   "cell_type": "code",
   "execution_count": 10,
   "metadata": {},
   "outputs": [],
   "source": [
    "# Changing data types\n",
    "df_clean_twitter_archive.timestamp = pd.to_datetime(df_twitter_archive.timestamp)\n",
    "df_clean_twitter_archive.retweeted_status_timestamp = pd.to_datetime(df_twitter_archive.retweeted_status_timestamp)"
   ]
  },
  {
   "cell_type": "markdown",
   "metadata": {},
   "source": [
    "> **Test:**"
   ]
  },
  {
   "cell_type": "code",
   "execution_count": 11,
   "metadata": {},
   "outputs": [
    {
     "data": {
      "text/plain": [
       "tweet_id                               int64\n",
       "in_reply_to_status_id                float64\n",
       "in_reply_to_user_id                  float64\n",
       "timestamp                     datetime64[ns]\n",
       "source                                object\n",
       "text                                  object\n",
       "retweeted_status_id                  float64\n",
       "retweeted_status_user_id             float64\n",
       "retweeted_status_timestamp    datetime64[ns]\n",
       "expanded_urls                         object\n",
       "rating_numerator                       int64\n",
       "rating_denominator                     int64\n",
       "name                                  object\n",
       "doggo                                 object\n",
       "floofer                               object\n",
       "pupper                                object\n",
       "puppo                                 object\n",
       "dtype: object"
      ]
     },
     "execution_count": 11,
     "metadata": {},
     "output_type": "execute_result"
    }
   ],
   "source": [
    "df_clean_twitter_archive.dtypes"
   ]
  },
  {
   "cell_type": "markdown",
   "metadata": {},
   "source": [
    "### *Twitter_archive*\n",
    "> **Define**\n",
    "* Splitting *timestamp* into three coloumns day - month - year might be useful for future analysis and then dropping it.\n",
    "\n",
    "> **Code:**"
   ]
  },
  {
   "cell_type": "code",
   "execution_count": 12,
   "metadata": {},
   "outputs": [],
   "source": [
    "# Creating new coloumns for year, month and day\n",
    "df_clean_twitter_archive['year'] = df_clean_twitter_archive['timestamp'].dt.year\n",
    "df_clean_twitter_archive['month'] = df_clean_twitter_archive['timestamp'].dt.month\n",
    "df_clean_twitter_archive['day'] = df_clean_twitter_archive['timestamp'].dt.day\n",
    "df_clean_twitter_archive.drop(['timestamp']\n",
    "                              , axis = 1, inplace = True)"
   ]
  },
  {
   "cell_type": "markdown",
   "metadata": {},
   "source": [
    "> **Test:**"
   ]
  },
  {
   "cell_type": "code",
   "execution_count": 13,
   "metadata": {},
   "outputs": [
    {
     "name": "stdout",
     "output_type": "stream",
     "text": [
      "<class 'pandas.core.frame.DataFrame'>\n",
      "RangeIndex: 2356 entries, 0 to 2355\n",
      "Data columns (total 19 columns):\n",
      "tweet_id                      2356 non-null int64\n",
      "in_reply_to_status_id         78 non-null float64\n",
      "in_reply_to_user_id           78 non-null float64\n",
      "source                        2356 non-null object\n",
      "text                          2356 non-null object\n",
      "retweeted_status_id           181 non-null float64\n",
      "retweeted_status_user_id      181 non-null float64\n",
      "retweeted_status_timestamp    181 non-null datetime64[ns]\n",
      "expanded_urls                 2297 non-null object\n",
      "rating_numerator              2356 non-null int64\n",
      "rating_denominator            2356 non-null int64\n",
      "name                          2356 non-null object\n",
      "doggo                         2356 non-null object\n",
      "floofer                       2356 non-null object\n",
      "pupper                        2356 non-null object\n",
      "puppo                         2356 non-null object\n",
      "year                          2356 non-null int64\n",
      "month                         2356 non-null int64\n",
      "day                           2356 non-null int64\n",
      "dtypes: datetime64[ns](1), float64(4), int64(6), object(8)\n",
      "memory usage: 349.8+ KB\n"
     ]
    }
   ],
   "source": [
    "# Test\n",
    "df_clean_twitter_archive.info()"
   ]
  },
  {
   "cell_type": "markdown",
   "metadata": {},
   "source": [
    "### *Twitter_archive*\n",
    "> **Define**\n",
    "* The *rating_numerator* has some invalid values.\n",
    "we will exclude values less than ten or greater than twenty.\n",
    "\n",
    ">**Code:**"
   ]
  },
  {
   "cell_type": "code",
   "execution_count": 14,
   "metadata": {},
   "outputs": [],
   "source": [
    "# Fixing the numerator values issue\n",
    "df_clean_twitter_archive = df_clean_twitter_archive[df_clean_twitter_archive['rating_numerator'] > 10]\n",
    "df_clean_twitter_archive = df_clean_twitter_archive[df_clean_twitter_archive['rating_numerator'] < 30]"
   ]
  },
  {
   "cell_type": "markdown",
   "metadata": {},
   "source": [
    "> **Test:**"
   ]
  },
  {
   "cell_type": "code",
   "execution_count": 15,
   "metadata": {},
   "outputs": [
    {
     "name": "stdout",
     "output_type": "stream",
     "text": [
      "Numerator count\n",
      "12    558\n",
      "11    464\n",
      "13    351\n",
      "14     54\n",
      "15      2\n",
      "27      1\n",
      "26      1\n",
      "24      1\n",
      "20      1\n",
      "17      1\n",
      "Name: rating_numerator, dtype: int64\n"
     ]
    }
   ],
   "source": [
    "# Test\n",
    "print('Numerator count')\n",
    "print(df_clean_twitter_archive.rating_numerator.value_counts())"
   ]
  },
  {
   "cell_type": "markdown",
   "metadata": {},
   "source": [
    "### *Twitter_archive*\n",
    "> **Define**\n",
    "* The *rating_denominator* has invalid values.\n",
    "We will exclude any values rather than 10.\n",
    "\n",
    ">**Code:**"
   ]
  },
  {
   "cell_type": "code",
   "execution_count": 16,
   "metadata": {},
   "outputs": [],
   "source": [
    "# Fixing the denominator values issue\n",
    "def fix_den(row):\n",
    "    row['rating_denominator'] = 10 \n",
    "    return row\n",
    "    \n",
    "df_clean_twitter_archive = df_clean_twitter_archive.apply(fix_den, axis=1)"
   ]
  },
  {
   "cell_type": "markdown",
   "metadata": {},
   "source": [
    "> **Test:**"
   ]
  },
  {
   "cell_type": "code",
   "execution_count": 17,
   "metadata": {},
   "outputs": [
    {
     "name": "stdout",
     "output_type": "stream",
     "text": [
      "Denominator count\n",
      "10    1434\n",
      "Name: rating_denominator, dtype: int64\n"
     ]
    }
   ],
   "source": [
    "# Test \n",
    "print('Denominator count')\n",
    "print(df_clean_twitter_archive.rating_denominator.value_counts())"
   ]
  },
  {
   "cell_type": "markdown",
   "metadata": {},
   "source": [
    "# Fixing the name \n",
    "### *Twitter_archive*\n",
    "> **Define**\n",
    "* The *name* coloumn has some invalid data.\n",
    "In this problem, we can search for the dog name, after some key-words like **This is ..** or **named**, this can be done through a function.\n",
    "\n",
    ">**Code:**"
   ]
  },
  {
   "cell_type": "code",
   "execution_count": 18,
   "metadata": {},
   "outputs": [],
   "source": [
    "# Fixing the name issue \n",
    "def replace_names(row):\n",
    "    # Only try to replace name if it is 'a'\n",
    "    if row['name'] == 'a' or row['name'] == 'an' or row['name'] == None:    \n",
    "        text = row['text']\n",
    "        text = text.lower()\n",
    "        word_list = text.split()\n",
    "        name = 'None'\n",
    "\n",
    "        if 'named' in text:\n",
    "            pos = word_list.index('named') + 1\n",
    "            name = word_list[pos]\n",
    "        elif 'name is' in text:\n",
    "            pos = word_list.index('name') + 2\n",
    "            name = word_list[pos]\n",
    "        elif 'this is' in text:\n",
    "            pos = word_list.index('this') + 2\n",
    "            name = word_list[pos]\n",
    "        row['name'] = name\n",
    "    \n",
    "    return row\n",
    "    \n",
    "\n",
    "df_clean_twitter_archive = df_clean_twitter_archive.apply(replace_names, axis=1)"
   ]
  },
  {
   "cell_type": "markdown",
   "metadata": {},
   "source": [
    "> **Test:**"
   ]
  },
  {
   "cell_type": "code",
   "execution_count": 19,
   "metadata": {},
   "outputs": [
    {
     "name": "stdout",
     "output_type": "stream",
     "text": [
      "Names count\n",
      "None        745\n",
      "a            55\n",
      "Charlie      12\n",
      "Oliver       11\n",
      "Lucy         11\n",
      "Cooper       11\n",
      "Tucker       10\n",
      "Penny        10\n",
      "Lola         10\n",
      "Bo            9\n",
      "Winston       9\n",
      "Sadie         8\n",
      "the           8\n",
      "Toby          7\n",
      "Daisy         7\n",
      "Bailey        7\n",
      "an            7\n",
      "Buddy         7\n",
      "Jack          6\n",
      "Dave          6\n",
      "Stanley       6\n",
      "Milo          6\n",
      "Bella         6\n",
      "Jax           6\n",
      "Rusty         6\n",
      "Leo           6\n",
      "Scout         6\n",
      "Koda          6\n",
      "Oscar         6\n",
      "Alfie         5\n",
      "           ... \n",
      "Pilot         1\n",
      "Dug           1\n",
      "Frönq         1\n",
      "DayZ          1\n",
      "Lizzie        1\n",
      "Kona          1\n",
      "Harrison      1\n",
      "Tebow         1\n",
      "Ronnie        1\n",
      "Yoda          1\n",
      "Beckham       1\n",
      "Marvin        1\n",
      "Sonny         1\n",
      "Striker       1\n",
      "Strider       1\n",
      "Gustaf        1\n",
      "Tayzie        1\n",
      "Horace        1\n",
      "Mona          1\n",
      "Filup         1\n",
      "Blu           1\n",
      "Ozzie         1\n",
      "Doobert       1\n",
      "Jimbo         1\n",
      "Severus       1\n",
      "Kevon         1\n",
      "Ole           1\n",
      "Skittle       1\n",
      "Eevee         1\n",
      "Newt          1\n",
      "Name: name, Length: 957, dtype: int64\n"
     ]
    }
   ],
   "source": [
    "# Test\n",
    "print('Names count')\n",
    "print(df_twitter_archive.name.value_counts())"
   ]
  },
  {
   "cell_type": "markdown",
   "metadata": {},
   "source": [
    "### *Twitter_archive*\n",
    "> **Define**\n",
    "* Keeping only original ratings (no retweets) that have images, and dropping coloumns related to retweeting.\n",
    "\n",
    ">**Code:**"
   ]
  },
  {
   "cell_type": "code",
   "execution_count": 20,
   "metadata": {},
   "outputs": [
    {
     "name": "stderr",
     "output_type": "stream",
     "text": [
      "/opt/conda/lib/python3.6/site-packages/ipykernel_launcher.py:2: UserWarning: Boolean Series key will be reindexed to match DataFrame index.\n",
      "  \n"
     ]
    }
   ],
   "source": [
    "# Keeping only original rows (no retweets)\n",
    "df_clean_twitter_archive = df_clean_twitter_archive[pd.isnull(df_twitter_archive['retweeted_status_user_id'])]"
   ]
  },
  {
   "cell_type": "markdown",
   "metadata": {},
   "source": [
    "> **Test:**"
   ]
  },
  {
   "cell_type": "code",
   "execution_count": 21,
   "metadata": {},
   "outputs": [
    {
     "data": {
      "text/plain": [
       "0"
      ]
     },
     "execution_count": 21,
     "metadata": {},
     "output_type": "execute_result"
    }
   ],
   "source": [
    "# Test\n",
    "sum(df_clean_twitter_archive.retweeted_status_user_id.value_counts())"
   ]
  },
  {
   "cell_type": "code",
   "execution_count": 22,
   "metadata": {},
   "outputs": [],
   "source": [
    "# Dropping rows concerning re-tweets! (They are not useful in any way)\n",
    "df_clean_twitter_archive.drop(['retweeted_status_id', 'retweeted_status_user_id', 'retweeted_status_timestamp']\n",
    "                              , axis = 1, inplace = True)"
   ]
  },
  {
   "cell_type": "markdown",
   "metadata": {},
   "source": [
    "### *Twitter_archive*\n",
    "> **Define**\n",
    "* Too little dogs are calssified into *doggo*, *floofer*, *pupper*, *puppo* coloumns, so we might want to check this.\n",
    "This problem shall be approached by simply checking if any of dog stages is mentioned in the text cell.\n",
    "\n",
    ">**Code:**"
   ]
  },
  {
   "cell_type": "code",
   "execution_count": 23,
   "metadata": {},
   "outputs": [],
   "source": [
    "# Checking if all dog stages where correctly taken into consideration\n",
    "def replace_names(row):\n",
    "    if 'doggo' in row['text'].lower():\n",
    "        row['doggo'] = 'doggo'\n",
    "    elif 'puppo' in row['text'].lower():\n",
    "        row['puppo'] = 'puppo'\n",
    "    elif 'pupper' in row['text'].lower():\n",
    "        row['pupper'] = 'pupper'\n",
    "    elif 'floofer' in row['text'].lower():\n",
    "        row['floofer'] = 'floofer'\n",
    "\n",
    "    return row\n",
    "    \n",
    "\n",
    "df_clean_twitter_archive = df_clean_twitter_archive.apply(replace_names, axis=1)"
   ]
  },
  {
   "cell_type": "markdown",
   "metadata": {},
   "source": [
    "> **Test:**"
   ]
  },
  {
   "cell_type": "code",
   "execution_count": 24,
   "metadata": {},
   "outputs": [
    {
     "name": "stdout",
     "output_type": "stream",
     "text": [
      "Doggo count\n",
      "None     1203\n",
      "doggo      79\n",
      "Name: doggo, dtype: int64\n",
      "**************************************************\n",
      "Floofer count\n",
      "None       1273\n",
      "floofer       9\n",
      "Name: floofer, dtype: int64\n",
      "**************************************************\n",
      "Pupper count\n",
      "None      1130\n",
      "pupper     152\n",
      "Name: pupper, dtype: int64\n",
      "**************************************************\n",
      "Puppo count\n",
      "None     1255\n",
      "puppo      27\n",
      "Name: puppo, dtype: int64\n"
     ]
    }
   ],
   "source": [
    "\n",
    "# Test\n",
    "print('Doggo count')\n",
    "print(df_clean_twitter_archive.doggo.value_counts())\n",
    "print(Sep*'*')\n",
    "print('Floofer count')\n",
    "print(df_clean_twitter_archive.floofer.value_counts())\n",
    "print(Sep*'*')\n",
    "print('Pupper count')\n",
    "print(df_clean_twitter_archive.pupper.value_counts())\n",
    "print(Sep*'*')\n",
    "print('Puppo count')\n",
    "print(df_clean_twitter_archive.puppo.value_counts())"
   ]
  },
  {
   "cell_type": "markdown",
   "metadata": {},
   "source": [
    "### *Twitter_archive*\n",
    "> **Define**\n",
    "* Creating new coloumn driven out of *doggo*, *floofer*, *pupper*, *puppo* coloumns for future analysis and then dropping them.\n",
    "\n",
    ">**Code:**"
   ]
  },
  {
   "cell_type": "code",
   "execution_count": 25,
   "metadata": {},
   "outputs": [],
   "source": [
    "# Creating a new coloumn called dog_stage\n",
    "def replace_names(row):\n",
    "    if row['doggo'] == 'doggo':\n",
    "        row['dog_stage'] = 'doggo'\n",
    "    elif row['puppo'] == 'puppo':\n",
    "        row['dog_stage'] = 'puppo'\n",
    "    elif row['pupper'] == 'pupper':\n",
    "        row['dog_stage'] = 'pupper'\n",
    "    elif row['floofer'] == 'floofer':\n",
    "        row['dog_stage'] = 'floofer'\n",
    "    \n",
    "    else:\n",
    "        row['dog_stage'] = 'No Stage'\n",
    "\n",
    "    return row\n",
    "    \n",
    "\n",
    "df_clean_twitter_archive = df_clean_twitter_archive.apply(replace_names, axis=1)"
   ]
  },
  {
   "cell_type": "markdown",
   "metadata": {},
   "source": [
    "> **Test:**"
   ]
  },
  {
   "cell_type": "code",
   "execution_count": 26,
   "metadata": {},
   "outputs": [
    {
     "data": {
      "text/plain": [
       "No Stage    1025\n",
       "pupper       144\n",
       "doggo         79\n",
       "puppo         26\n",
       "floofer        8\n",
       "Name: dog_stage, dtype: int64"
      ]
     },
     "execution_count": 26,
     "metadata": {},
     "output_type": "execute_result"
    }
   ],
   "source": [
    "# Test\n",
    "df_clean_twitter_archive.dog_stage.value_counts()"
   ]
  },
  {
   "cell_type": "code",
   "execution_count": 27,
   "metadata": {},
   "outputs": [],
   "source": [
    "# Dropping coloumns \n",
    "df_clean_twitter_archive.drop(['doggo','puppo','pupper','floofer']\n",
    "                              , axis = 1, inplace = True)"
   ]
  },
  {
   "cell_type": "markdown",
   "metadata": {},
   "source": [
    "## The final result of (df_clean_twitter_archive)"
   ]
  },
  {
   "cell_type": "code",
   "execution_count": 28,
   "metadata": {},
   "outputs": [
    {
     "name": "stdout",
     "output_type": "stream",
     "text": [
      "<class 'pandas.core.frame.DataFrame'>\n",
      "Int64Index: 1282 entries, 0 to 2339\n",
      "Data columns (total 13 columns):\n",
      "tweet_id                 1282 non-null int64\n",
      "in_reply_to_status_id    55 non-null float64\n",
      "in_reply_to_user_id      55 non-null float64\n",
      "source                   1282 non-null object\n",
      "text                     1282 non-null object\n",
      "expanded_urls            1244 non-null object\n",
      "rating_numerator         1282 non-null int64\n",
      "rating_denominator       1282 non-null int64\n",
      "name                     1282 non-null object\n",
      "year                     1282 non-null int64\n",
      "month                    1282 non-null int64\n",
      "day                      1282 non-null int64\n",
      "dog_stage                1282 non-null object\n",
      "dtypes: float64(2), int64(6), object(5)\n",
      "memory usage: 140.2+ KB\n"
     ]
    }
   ],
   "source": [
    "df_clean_twitter_archive.info()"
   ]
  },
  {
   "cell_type": "markdown",
   "metadata": {},
   "source": [
    "# Assessing_Predictions\n",
    "Let's assess the second part of our data, the predictions of dogs breeds."
   ]
  },
  {
   "cell_type": "code",
   "execution_count": 29,
   "metadata": {},
   "outputs": [
    {
     "data": {
      "text/html": [
       "<div>\n",
       "<style>\n",
       "    .dataframe thead tr:only-child th {\n",
       "        text-align: right;\n",
       "    }\n",
       "\n",
       "    .dataframe thead th {\n",
       "        text-align: left;\n",
       "    }\n",
       "\n",
       "    .dataframe tbody tr th {\n",
       "        vertical-align: top;\n",
       "    }\n",
       "</style>\n",
       "<table border=\"1\" class=\"dataframe\">\n",
       "  <thead>\n",
       "    <tr style=\"text-align: right;\">\n",
       "      <th></th>\n",
       "      <th>tweet_id</th>\n",
       "      <th>jpg_url</th>\n",
       "      <th>img_num</th>\n",
       "      <th>p1</th>\n",
       "      <th>p1_conf</th>\n",
       "      <th>p1_dog</th>\n",
       "      <th>p2</th>\n",
       "      <th>p2_conf</th>\n",
       "      <th>p2_dog</th>\n",
       "      <th>p3</th>\n",
       "      <th>p3_conf</th>\n",
       "      <th>p3_dog</th>\n",
       "    </tr>\n",
       "  </thead>\n",
       "  <tbody>\n",
       "    <tr>\n",
       "      <th>0</th>\n",
       "      <td>666020888022790149</td>\n",
       "      <td>https://pbs.twimg.com/media/CT4udn0WwAA0aMy.jpg</td>\n",
       "      <td>1</td>\n",
       "      <td>Welsh_springer_spaniel</td>\n",
       "      <td>0.465074</td>\n",
       "      <td>True</td>\n",
       "      <td>collie</td>\n",
       "      <td>0.156665</td>\n",
       "      <td>True</td>\n",
       "      <td>Shetland_sheepdog</td>\n",
       "      <td>0.061428</td>\n",
       "      <td>True</td>\n",
       "    </tr>\n",
       "    <tr>\n",
       "      <th>1</th>\n",
       "      <td>666029285002620928</td>\n",
       "      <td>https://pbs.twimg.com/media/CT42GRgUYAA5iDo.jpg</td>\n",
       "      <td>1</td>\n",
       "      <td>redbone</td>\n",
       "      <td>0.506826</td>\n",
       "      <td>True</td>\n",
       "      <td>miniature_pinscher</td>\n",
       "      <td>0.074192</td>\n",
       "      <td>True</td>\n",
       "      <td>Rhodesian_ridgeback</td>\n",
       "      <td>0.072010</td>\n",
       "      <td>True</td>\n",
       "    </tr>\n",
       "    <tr>\n",
       "      <th>2</th>\n",
       "      <td>666033412701032449</td>\n",
       "      <td>https://pbs.twimg.com/media/CT4521TWwAEvMyu.jpg</td>\n",
       "      <td>1</td>\n",
       "      <td>German_shepherd</td>\n",
       "      <td>0.596461</td>\n",
       "      <td>True</td>\n",
       "      <td>malinois</td>\n",
       "      <td>0.138584</td>\n",
       "      <td>True</td>\n",
       "      <td>bloodhound</td>\n",
       "      <td>0.116197</td>\n",
       "      <td>True</td>\n",
       "    </tr>\n",
       "    <tr>\n",
       "      <th>3</th>\n",
       "      <td>666044226329800704</td>\n",
       "      <td>https://pbs.twimg.com/media/CT5Dr8HUEAA-lEu.jpg</td>\n",
       "      <td>1</td>\n",
       "      <td>Rhodesian_ridgeback</td>\n",
       "      <td>0.408143</td>\n",
       "      <td>True</td>\n",
       "      <td>redbone</td>\n",
       "      <td>0.360687</td>\n",
       "      <td>True</td>\n",
       "      <td>miniature_pinscher</td>\n",
       "      <td>0.222752</td>\n",
       "      <td>True</td>\n",
       "    </tr>\n",
       "    <tr>\n",
       "      <th>4</th>\n",
       "      <td>666049248165822465</td>\n",
       "      <td>https://pbs.twimg.com/media/CT5IQmsXIAAKY4A.jpg</td>\n",
       "      <td>1</td>\n",
       "      <td>miniature_pinscher</td>\n",
       "      <td>0.560311</td>\n",
       "      <td>True</td>\n",
       "      <td>Rottweiler</td>\n",
       "      <td>0.243682</td>\n",
       "      <td>True</td>\n",
       "      <td>Doberman</td>\n",
       "      <td>0.154629</td>\n",
       "      <td>True</td>\n",
       "    </tr>\n",
       "  </tbody>\n",
       "</table>\n",
       "</div>"
      ],
      "text/plain": [
       "             tweet_id                                          jpg_url  \\\n",
       "0  666020888022790149  https://pbs.twimg.com/media/CT4udn0WwAA0aMy.jpg   \n",
       "1  666029285002620928  https://pbs.twimg.com/media/CT42GRgUYAA5iDo.jpg   \n",
       "2  666033412701032449  https://pbs.twimg.com/media/CT4521TWwAEvMyu.jpg   \n",
       "3  666044226329800704  https://pbs.twimg.com/media/CT5Dr8HUEAA-lEu.jpg   \n",
       "4  666049248165822465  https://pbs.twimg.com/media/CT5IQmsXIAAKY4A.jpg   \n",
       "\n",
       "   img_num                      p1   p1_conf  p1_dog                  p2  \\\n",
       "0        1  Welsh_springer_spaniel  0.465074    True              collie   \n",
       "1        1                 redbone  0.506826    True  miniature_pinscher   \n",
       "2        1         German_shepherd  0.596461    True            malinois   \n",
       "3        1     Rhodesian_ridgeback  0.408143    True             redbone   \n",
       "4        1      miniature_pinscher  0.560311    True          Rottweiler   \n",
       "\n",
       "    p2_conf  p2_dog                   p3   p3_conf  p3_dog  \n",
       "0  0.156665    True    Shetland_sheepdog  0.061428    True  \n",
       "1  0.074192    True  Rhodesian_ridgeback  0.072010    True  \n",
       "2  0.138584    True           bloodhound  0.116197    True  \n",
       "3  0.360687    True   miniature_pinscher  0.222752    True  \n",
       "4  0.243682    True             Doberman  0.154629    True  "
      ]
     },
     "execution_count": 29,
     "metadata": {},
     "output_type": "execute_result"
    }
   ],
   "source": [
    "df_clean_image_predictions.head(5)"
   ]
  },
  {
   "cell_type": "code",
   "execution_count": 30,
   "metadata": {},
   "outputs": [
    {
     "name": "stdout",
     "output_type": "stream",
     "text": [
      "<class 'pandas.core.frame.DataFrame'>\n",
      "RangeIndex: 2075 entries, 0 to 2074\n",
      "Data columns (total 12 columns):\n",
      "tweet_id    2075 non-null int64\n",
      "jpg_url     2075 non-null object\n",
      "img_num     2075 non-null int64\n",
      "p1          2075 non-null object\n",
      "p1_conf     2075 non-null float64\n",
      "p1_dog      2075 non-null bool\n",
      "p2          2075 non-null object\n",
      "p2_conf     2075 non-null float64\n",
      "p2_dog      2075 non-null bool\n",
      "p3          2075 non-null object\n",
      "p3_conf     2075 non-null float64\n",
      "p3_dog      2075 non-null bool\n",
      "dtypes: bool(3), float64(3), int64(2), object(4)\n",
      "memory usage: 152.1+ KB\n"
     ]
    }
   ],
   "source": [
    "df_clean_image_predictions.info()"
   ]
  },
  {
   "cell_type": "code",
   "execution_count": 31,
   "metadata": {},
   "outputs": [
    {
     "data": {
      "text/plain": [
       "0"
      ]
     },
     "execution_count": 31,
     "metadata": {},
     "output_type": "execute_result"
    }
   ],
   "source": [
    "sum(df_clean_image_predictions.duplicated())"
   ]
  },
  {
   "cell_type": "markdown",
   "metadata": {},
   "source": [
    "# Cleaning_Predictions\n",
    "\n",
    "## Quality improvements \n",
    ">**Dogs Predictions:**\n",
    ">>\n",
    "* Keeping only one coloumn for dog breed.\n",
    "* Keeping only one coloumn for confidence.\n",
    "\n",
    "\n",
    ">**Notes:**\n",
    ">>\n",
    "* There is no dublicated data, so also nothing further to do.\n",
    "\n",
    "## Tidiness \n",
    ">**Dogs Predictions:**\n",
    ">>\n",
    "* Number of enteries in the dogs predictions data **(2075)** is less than our main data frame **(2356)**. This must be taken care of while merging **(This step will be done after combining all data sets)**.\n",
    "* No need to take all the data in, since we won't be using all of them, so at the *analyse and visualize* phase, we will just drop them.\n",
    "\n",
    "We'll go through each of the steps above in the same order in the following coding cells **(This step will be done after combining all data sets)**."
   ]
  },
  {
   "cell_type": "markdown",
   "metadata": {},
   "source": [
    "### *Image_predictions*\n",
    "> **Define**\n",
    "* Keeping only one coloumn for dog breed.\n",
    "* Keeping only one coloumn for confidence.\n",
    "\n",
    ">**Code:**"
   ]
  },
  {
   "cell_type": "code",
   "execution_count": 32,
   "metadata": {},
   "outputs": [],
   "source": [
    "# Keeping only one coloumn for breed and one for confidence\n",
    "df_clean_image_predictions.drop(['p2', 'p2_conf', 'p2_dog', 'p3','p3_conf', 'p3_dog']\n",
    "                                , axis = 1, inplace = True)"
   ]
  },
  {
   "cell_type": "markdown",
   "metadata": {},
   "source": [
    "> **Test:**"
   ]
  },
  {
   "cell_type": "code",
   "execution_count": 33,
   "metadata": {},
   "outputs": [
    {
     "name": "stdout",
     "output_type": "stream",
     "text": [
      "<class 'pandas.core.frame.DataFrame'>\n",
      "RangeIndex: 2075 entries, 0 to 2074\n",
      "Data columns (total 6 columns):\n",
      "tweet_id    2075 non-null int64\n",
      "jpg_url     2075 non-null object\n",
      "img_num     2075 non-null int64\n",
      "p1          2075 non-null object\n",
      "p1_conf     2075 non-null float64\n",
      "p1_dog      2075 non-null bool\n",
      "dtypes: bool(1), float64(1), int64(2), object(2)\n",
      "memory usage: 83.2+ KB\n"
     ]
    }
   ],
   "source": [
    "# Test\n",
    "df_clean_image_predictions.info()"
   ]
  },
  {
   "cell_type": "markdown",
   "metadata": {},
   "source": [
    "# Assessing_info\n",
    "Finally, let's assess the last of our data, the tweets info."
   ]
  },
  {
   "cell_type": "code",
   "execution_count": 34,
   "metadata": {},
   "outputs": [
    {
     "data": {
      "text/html": [
       "<div>\n",
       "<style>\n",
       "    .dataframe thead tr:only-child th {\n",
       "        text-align: right;\n",
       "    }\n",
       "\n",
       "    .dataframe thead th {\n",
       "        text-align: left;\n",
       "    }\n",
       "\n",
       "    .dataframe tbody tr th {\n",
       "        vertical-align: top;\n",
       "    }\n",
       "</style>\n",
       "<table border=\"1\" class=\"dataframe\">\n",
       "  <thead>\n",
       "    <tr style=\"text-align: right;\">\n",
       "      <th></th>\n",
       "      <th>favorite_count</th>\n",
       "      <th>id</th>\n",
       "      <th>retweet_count</th>\n",
       "    </tr>\n",
       "  </thead>\n",
       "  <tbody>\n",
       "    <tr>\n",
       "      <th>0</th>\n",
       "      <td>39467</td>\n",
       "      <td>892420643555336193</td>\n",
       "      <td>8853</td>\n",
       "    </tr>\n",
       "    <tr>\n",
       "      <th>1</th>\n",
       "      <td>33819</td>\n",
       "      <td>892177421306343426</td>\n",
       "      <td>6514</td>\n",
       "    </tr>\n",
       "    <tr>\n",
       "      <th>2</th>\n",
       "      <td>25461</td>\n",
       "      <td>891815181378084864</td>\n",
       "      <td>4328</td>\n",
       "    </tr>\n",
       "    <tr>\n",
       "      <th>3</th>\n",
       "      <td>42908</td>\n",
       "      <td>891689557279858688</td>\n",
       "      <td>8964</td>\n",
       "    </tr>\n",
       "    <tr>\n",
       "      <th>4</th>\n",
       "      <td>41048</td>\n",
       "      <td>891327558926688256</td>\n",
       "      <td>9774</td>\n",
       "    </tr>\n",
       "  </tbody>\n",
       "</table>\n",
       "</div>"
      ],
      "text/plain": [
       "   favorite_count                  id  retweet_count\n",
       "0           39467  892420643555336193           8853\n",
       "1           33819  892177421306343426           6514\n",
       "2           25461  891815181378084864           4328\n",
       "3           42908  891689557279858688           8964\n",
       "4           41048  891327558926688256           9774"
      ]
     },
     "execution_count": 34,
     "metadata": {},
     "output_type": "execute_result"
    }
   ],
   "source": [
    "df_tweets_info.head(5)"
   ]
  },
  {
   "cell_type": "code",
   "execution_count": 35,
   "metadata": {},
   "outputs": [
    {
     "name": "stdout",
     "output_type": "stream",
     "text": [
      "<class 'pandas.core.frame.DataFrame'>\n",
      "RangeIndex: 2354 entries, 0 to 2353\n",
      "Data columns (total 3 columns):\n",
      "favorite_count    2354 non-null int64\n",
      "id                2354 non-null int64\n",
      "retweet_count     2354 non-null int64\n",
      "dtypes: int64(3)\n",
      "memory usage: 55.2 KB\n"
     ]
    }
   ],
   "source": [
    "df_tweets_info.info()"
   ]
  },
  {
   "cell_type": "code",
   "execution_count": 36,
   "metadata": {},
   "outputs": [
    {
     "data": {
      "text/plain": [
       "0"
      ]
     },
     "execution_count": 36,
     "metadata": {},
     "output_type": "execute_result"
    }
   ],
   "source": [
    "sum(df_tweets_info.duplicated())"
   ]
  },
  {
   "cell_type": "markdown",
   "metadata": {},
   "source": [
    "# Cleaning_info\n",
    "\n",
    "## Quality improvements \n",
    ">**Tweets info:**\n",
    ">>\n",
    "* Nothing here to be doing.\n",
    "\n",
    "## Tidiness \n",
    ">**Tweets info:**\n",
    ">>\n",
    "* Just renaming *id* coloumn into *tweet_id* for compatability.\n",
    "* **All the data parts** must be joined together in one data frame.\n"
   ]
  },
  {
   "cell_type": "markdown",
   "metadata": {},
   "source": [
    "### *Twitter_archive*\n",
    "> **Define**\n",
    "Renaming *id* coloumn into *tweet_id* for compatability.\n",
    "\n",
    ">**Code:**"
   ]
  },
  {
   "cell_type": "code",
   "execution_count": 37,
   "metadata": {},
   "outputs": [],
   "source": [
    "# Re-naming coloumn\n",
    "df_clean_tweets_info.rename(columns={'id':'tweet_id'}, inplace=True)"
   ]
  },
  {
   "cell_type": "markdown",
   "metadata": {},
   "source": [
    "# Final_Frame\n",
    "\n",
    "Now, we have a two tasks:\n",
    "* To start with, let's [put](#Merging) our pieces together in order to start analysing and visualizing our data.\n",
    "* Lastly, we will [save](#Saving) our data frame into a new data file."
   ]
  },
  {
   "cell_type": "markdown",
   "metadata": {},
   "source": [
    "## Merging"
   ]
  },
  {
   "cell_type": "code",
   "execution_count": 38,
   "metadata": {},
   "outputs": [
    {
     "name": "stdout",
     "output_type": "stream",
     "text": [
      "<class 'pandas.core.frame.DataFrame'>\n",
      "Int64Index: 1282 entries, 0 to 1281\n",
      "Data columns (total 18 columns):\n",
      "tweet_id                 1282 non-null int64\n",
      "in_reply_to_status_id    55 non-null float64\n",
      "in_reply_to_user_id      55 non-null float64\n",
      "source                   1282 non-null object\n",
      "text                     1282 non-null object\n",
      "expanded_urls            1244 non-null object\n",
      "rating_numerator         1282 non-null int64\n",
      "rating_denominator       1282 non-null int64\n",
      "name                     1282 non-null object\n",
      "year                     1282 non-null int64\n",
      "month                    1282 non-null int64\n",
      "day                      1282 non-null int64\n",
      "dog_stage                1282 non-null object\n",
      "jpg_url                  1145 non-null object\n",
      "img_num                  1145 non-null float64\n",
      "p1                       1145 non-null object\n",
      "p1_conf                  1145 non-null float64\n",
      "p1_dog                   1145 non-null object\n",
      "dtypes: float64(4), int64(6), object(8)\n",
      "memory usage: 190.3+ KB\n"
     ]
    }
   ],
   "source": [
    "# Merging (df_clean_twitter_archive) and (df_clean_image_predictions) into (df_clean_semi)\n",
    "# knowing that number of enteries is not the same \n",
    "df_clean_semi = pd.merge(df_clean_twitter_archive, df_clean_image_predictions, how='left', on=['tweet_id'])\n",
    "# DataFrame.dropna(axis=0, how='any', thresh=None, subset=None, inplace=False)[source]\n",
    "df_clean_semi.info()"
   ]
  },
  {
   "cell_type": "code",
   "execution_count": 39,
   "metadata": {},
   "outputs": [
    {
     "name": "stdout",
     "output_type": "stream",
     "text": [
      "<class 'pandas.core.frame.DataFrame'>\n",
      "Int64Index: 1282 entries, 0 to 1281\n",
      "Data columns (total 20 columns):\n",
      "tweet_id                 1282 non-null int64\n",
      "in_reply_to_status_id    55 non-null float64\n",
      "in_reply_to_user_id      55 non-null float64\n",
      "source                   1282 non-null object\n",
      "text                     1282 non-null object\n",
      "expanded_urls            1244 non-null object\n",
      "rating_numerator         1282 non-null int64\n",
      "rating_denominator       1282 non-null int64\n",
      "name                     1282 non-null object\n",
      "year                     1282 non-null int64\n",
      "month                    1282 non-null int64\n",
      "day                      1282 non-null int64\n",
      "dog_stage                1282 non-null object\n",
      "jpg_url                  1145 non-null object\n",
      "img_num                  1145 non-null float64\n",
      "p1                       1145 non-null object\n",
      "p1_conf                  1145 non-null float64\n",
      "p1_dog                   1145 non-null object\n",
      "favorite_count           1282 non-null int64\n",
      "retweet_count            1282 non-null int64\n",
      "dtypes: float64(4), int64(8), object(8)\n",
      "memory usage: 210.3+ KB\n"
     ]
    }
   ],
   "source": [
    "# Merging (df_clean_) and (df_clean_semi) into (df_clean_final)\n",
    "df_clean_final = pd.merge(df_clean_semi, df_clean_tweets_info, how='left', on=['tweet_id'])\n",
    "df_clean_final.info()"
   ]
  },
  {
   "cell_type": "markdown",
   "metadata": {},
   "source": [
    "## Saving "
   ]
  },
  {
   "cell_type": "code",
   "execution_count": 40,
   "metadata": {},
   "outputs": [],
   "source": [
    "df_clean_final.to_csv('twitter_archive_master.csv')\n",
    "df = pd.read_csv('twitter_archive_master.csv')"
   ]
  },
  {
   "cell_type": "code",
   "execution_count": 41,
   "metadata": {},
   "outputs": [
    {
     "data": {
      "image/png": "[encoded data removed]",
      "text/plain": [
       "<matplotlib.figure.Figure at 0x7f3f803ae588>"
      ]
     },
     "metadata": {
      "needs_background": "light"
     },
     "output_type": "display_data"
    }
   ],
   "source": [
    "# First_insight\n",
    "df.plot(x='retweet_count', y='rating_numerator', kind='scatter')\n",
    "plt.xlabel('Retweets Count')\n",
    "plt.ylabel('Rating')\n",
    "plt.title('Retweets Count Vs Rating')\n",
    "# Saving the plot for later usage in the report\n",
    "fig = plt.gcf()\n",
    "fig.savefig('First.png',bbox_inches='tight');"
   ]
  },
  {
   "cell_type": "markdown",
   "metadata": {},
   "source": [
    "> **Observations:**\n",
    "There is no clear correlation between rating and retweets number."
   ]
  },
  {
   "cell_type": "code",
   "execution_count": 42,
   "metadata": {},
   "outputs": [
    {
     "data": {
      "image/png": "[encoded data removed]",
      "text/plain": [
       "<matplotlib.figure.Figure at 0x7f3f806d8d30>"
      ]
     },
     "metadata": {
      "needs_background": "light"
     },
     "output_type": "display_data"
    }
   ],
   "source": [
    "# Second_insight\n",
    "df.plot(x='favorite_count', y='rating_numerator', kind='scatter')\n",
    "plt.xlabel('Favourite Count')\n",
    "plt.ylabel('Rating')\n",
    "plt.title('Favourite Count Vs Rating')\n",
    "# Saving the plot for later usage in the report\n",
    "fig = plt.gcf()\n",
    "fig.savefig('Second.png',bbox_inches='tight');"
   ]
  },
  {
   "cell_type": "markdown",
   "metadata": {},
   "source": [
    "> **Observations:**\n",
    "There is no clear correlation between rating and favourite counts."
   ]
  },
  {
   "cell_type": "code",
   "execution_count": 43,
   "metadata": {},
   "outputs": [
    {
     "data": {
      "image/png": "[encoded data removed]",
      "text/plain": [
       "<matplotlib.figure.Figure at 0x7f3f806f2748>"
      ]
     },
     "metadata": {
      "needs_background": "light"
     },
     "output_type": "display_data"
    }
   ],
   "source": [
    "# Third_insight\n",
    "df.p1.value_counts()[15::-1].plot(kind='barh');\n",
    "fig = plt.gcf()\n",
    "fig.savefig('Third.png',bbox_inches='tight');"
   ]
  },
  {
   "cell_type": "markdown",
   "metadata": {},
   "source": [
    "> **Observations:**\n",
    "Most rated dogs are golden retreivers and pembroke."
   ]
  },
  {
   "cell_type": "markdown",
   "metadata": {},
   "source": [
    "# References \n",
    "- Pandas, how to create a new column based on values from other columns, from this stack**overflow** [answer](https://stackoverflow.com/questions/26886653/pandas-create-new-column-based-on-values-from-other-columns).\n",
    "- How to iterate over rows in a DataFrame in Pandas, from this stack**overflow** [answer](https://stackoverflow.com/questions/16476924/how-to-iterate-over-rows-in-a-dataframe-in-pandas).\n",
    "- How to save a figure in jupyter notebook, from this stack**overflow** [answer](https://stackoverflow.com/questions/19271309/matplotlib-save-figure-as-file-from-ipython-notebook)."
   ]
  }
 ],
 "metadata": {
  "kernelspec": {
   "display_name": "Python 3",
   "language": "python",
   "name": "python3"
  },
  "language_info": {
   "codemirror_mode": {
    "name": "ipython",
    "version": 3
   },
   "file_extension": ".py",
   "mimetype": "text/x-python",
   "name": "python",
   "nbconvert_exporter": "python",
   "pygments_lexer": "ipython3",
   "version": "3.7.0"
  }
 },
 "nbformat": 4,
 "nbformat_minor": 2
}
